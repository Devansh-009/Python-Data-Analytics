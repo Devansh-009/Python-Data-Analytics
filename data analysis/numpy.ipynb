{
 "cells": [
  {
   "cell_type": "code",
   "execution_count": 2,
   "metadata": {},
   "outputs": [
    {
     "name": "stdout",
     "output_type": "stream",
     "text": [
      "[3, 5, 7]\n"
     ]
    }
   ],
   "source": [
    "x = [1,2,3]\n",
    "y = [2,3,4]\n",
    "ans = []\n",
    "for a,b in zip (x,y):\n",
    "    v = a + b\n",
    "    ans.append(v)\n",
    "print (ans)"
   ]
  },
  {
   "cell_type": "code",
   "execution_count": 3,
   "metadata": {},
   "outputs": [
    {
     "name": "stdout",
     "output_type": "stream",
     "text": [
      "[[1, 2, 2, 3], [3, 4, 4, 5]]\n"
     ]
    }
   ],
   "source": [
    "x = [[1,2],[3,4]]\n",
    "y = [[2,3],[4,5]]\n",
    "ans = []\n",
    "for a,b in zip (x,y):\n",
    "    "
   ]
  },
  {
   "cell_type": "code",
   "execution_count": 6,
   "metadata": {},
   "outputs": [],
   "source": [
    "import numpy as np"
   ]
  },
  {
   "cell_type": "code",
   "execution_count": 7,
   "metadata": {},
   "outputs": [
    {
     "name": "stdout",
     "output_type": "stream",
     "text": [
      "[1 2 3] + [2 3 4] = [3 5 7]\n",
      "[1 2 3] - [2 3 4] = [-1 -1 -1]\n",
      "[1 2 3] * [2 3 4] = [ 2  6 12]\n",
      "[1 2 3] / [2 3 4] = [0.5        0.66666667 0.75      ]\n"
     ]
    }
   ],
   "source": [
    "x = np.array([1,2,3])\n",
    "y = np.array([2,3,4])\n",
    "print(x,'+',y,'=',x+y)\n",
    "print(x,'-',y,'=',x-y)\n",
    "print(x,'*',y,'=',x*y)\n",
    "print(x,'/',y,'=',x/y)"
   ]
  },
  {
   "cell_type": "code",
   "execution_count": 8,
   "metadata": {},
   "outputs": [],
   "source": [
    "import numpy as np"
   ]
  },
  {
   "cell_type": "code",
   "execution_count": 11,
   "metadata": {},
   "outputs": [
    {
     "name": "stdout",
     "output_type": "stream",
     "text": [
      "[[1 2]\n",
      " [3 4]]\n",
      "[[2 3]\n",
      " [4 5]]\n",
      "[[3 5]\n",
      " [7 9]]\n"
     ]
    }
   ],
   "source": [
    "x = np.array([[1,2],[3,4]])\n",
    "y = np.array([[2,3],[4,5]])\n",
    "print(x,y,x+y,sep=\"\\n\")"
   ]
  },
  {
   "cell_type": "code",
   "execution_count": 12,
   "metadata": {},
   "outputs": [
    {
     "name": "stdout",
     "output_type": "stream",
     "text": [
      "[1 2 3] <class 'numpy.ndarray'> (3,) 1\n",
      "[[1 2]\n",
      " [3 4]] <class 'numpy.ndarray'> (2, 2) 2\n"
     ]
    }
   ],
   "source": [
    "# one dimension matrix\n",
    "x = np.array ([1,2,3])\n",
    "print(x,type (x),x.shape, x.ndim)\n",
    "#two dimension matrix\n",
    "x2 = np.array ([[1,2],[3,4]])\n",
    "print(x2,type (x2),x2.shape, x2.ndim)"
   ]
  },
  {
   "cell_type": "code",
   "execution_count": 15,
   "metadata": {},
   "outputs": [
    {
     "name": "stdout",
     "output_type": "stream",
     "text": [
      "[[[1 2]\n",
      "  [3 4]]\n",
      "\n",
      " [[5 6]\n",
      "  [7 8]]] (2, 2, 2) 3 8\n"
     ]
    }
   ],
   "source": [
    "#three dimension matrix\n",
    "x3 = np.array ([[[1,2],[3,4]],[[5,6],[7,8]]])\n",
    "print(x3, x3.shape, x3.ndim,x3.size)"
   ]
  },
  {
   "cell_type": "markdown",
   "metadata": {},
   "source": [
    "matrix generationinm numpy\n",
    "- array() #basic\n",
    "- arange () #range of values with gap\n",
    "- linespace () #range of valiue with equal gap \n",
    "- logspace () #range of values with equal gap in log scale \n",
    "- zeros () #array with all zeros\n",
    "- ones () #array with all ones\n",
    "- eye () #identity matrix\n",
    "- diag () #diagonal matrix\n",
    "- random.rand() #random matrix of given shape from 0 to 1\n",
    "- random.randn() #random matrix of given shape from -1 to 1\n",
    "- random.randint() #random matrix of given shape from range"
   ]
  },
  {
   "cell_type": "code",
   "execution_count": 16,
   "metadata": {},
   "outputs": [
    {
     "name": "stdout",
     "output_type": "stream",
     "text": [
      "[0 1 2 3 4 5 6 7 8 9]\n",
      "[-10.   -9.5  -9.   -8.5  -8.   -7.5  -7.   -6.5  -6.   -5.5  -5.   -4.5\n",
      "  -4.   -3.5  -3.   -2.5  -2.   -1.5  -1.   -0.5   0.    0.5   1.    1.5\n",
      "   2.    2.5   3.    3.5   4.    4.5   5.    5.5   6.    6.5   7.    7.5\n",
      "   8.    8.5   9.    9.5  10.   10.5]\n",
      "[-3.14159265 -1.14159265  0.85840735  2.85840735]\n",
      "[ 1  3  5  7  9 11 13]\n"
     ]
    }
   ],
   "source": [
    "x = np.arange(10)\n",
    "print(x)\n",
    "x1 = np.arange(-10,11,.5)\n",
    "print(x1)\n",
    "x2 = np.arange(-np.pi,np.pi,2)\n",
    "print(x2)\n",
    "x3 = np.arange(1,15,2)\n",
    "print(x3)"
   ]
  },
  {
   "cell_type": "code",
   "execution_count": 17,
   "metadata": {},
   "outputs": [
    {
     "name": "stdout",
     "output_type": "stream",
     "text": [
      "[ 0.          1.11111111  2.22222222  3.33333333  4.44444444  5.55555556\n",
      "  6.66666667  7.77777778  8.88888889 10.        ]\n"
     ]
    }
   ],
   "source": [
    "x =np.linspace(0,10,10)\n",
    "print(x)"
   ]
  },
  {
   "cell_type": "code",
   "execution_count": 19,
   "metadata": {},
   "outputs": [
    {
     "name": "stdout",
     "output_type": "stream",
     "text": [
      "[0. 0. 0. 0. 0. 0. 0. 0. 0. 0.]\n",
      "[[0. 0. 0.]\n",
      " [0. 0. 0.]]\n"
     ]
    }
   ],
   "source": [
    "z = np.zeros(10)\n",
    "print(z)\n",
    "z1 = np.zeros((2,3))\n",
    "print(z1)"
   ]
  },
  {
   "cell_type": "code",
   "execution_count": 23,
   "metadata": {},
   "outputs": [
    {
     "name": "stdout",
     "output_type": "stream",
     "text": [
      "[[1. 1. 1. 1. 1.]\n",
      " [1. 1. 1. 1. 1.]\n",
      " [1. 1. 1. 1. 1.]\n",
      " [1. 1. 1. 1. 1.]]\n"
     ]
    }
   ],
   "source": [
    "o = np.ones((4,5))\n",
    "print(o)"
   ]
  },
  {
   "cell_type": "code",
   "execution_count": 26,
   "metadata": {},
   "outputs": [
    {
     "name": "stdout",
     "output_type": "stream",
     "text": [
      "[[1 0 0 ... 0 0 0]\n",
      " [0 1 0 ... 0 0 0]\n",
      " [0 0 1 ... 0 0 0]\n",
      " ...\n",
      " [0 0 0 ... 1 0 0]\n",
      " [0 0 0 ... 0 1 0]\n",
      " [0 0 0 ... 0 0 1]]\n"
     ]
    }
   ],
   "source": [
    "e = np.eye(50, dtype=int)\n",
    "print(e)"
   ]
  },
  {
   "cell_type": "code",
   "execution_count": 27,
   "metadata": {},
   "outputs": [
    {
     "data": {
      "text/plain": [
       "array([[0.54305912, 0.50329279, 0.41084212],\n",
       "       [0.36755043, 0.99424734, 0.52581279],\n",
       "       [0.56939674, 0.38063559, 0.6404322 ]])"
      ]
     },
     "execution_count": 27,
     "metadata": {},
     "output_type": "execute_result"
    }
   ],
   "source": [
    "np.random.rand(3,3)"
   ]
  },
  {
   "cell_type": "code",
   "execution_count": 28,
   "metadata": {},
   "outputs": [
    {
     "data": {
      "text/plain": [
       "array([[ 1.46299328,  0.706222  , -2.47072275],\n",
       "       [ 0.39365143, -0.0230522 ,  1.39733237],\n",
       "       [-0.49569295,  1.25064547,  0.53674604]])"
      ]
     },
     "execution_count": 28,
     "metadata": {},
     "output_type": "execute_result"
    }
   ],
   "source": [
    "np.random.randn(3,3)"
   ]
  },
  {
   "cell_type": "code",
   "execution_count": 30,
   "metadata": {},
   "outputs": [
    {
     "data": {
      "text/plain": [
       "array([[11, 11, 11],\n",
       "       [11, 11, 11],\n",
       "       [11, 11, 11]])"
      ]
     },
     "execution_count": 30,
     "metadata": {},
     "output_type": "execute_result"
    }
   ],
   "source": [
    "np.random.randint(11,12,(3,3))"
   ]
  },
  {
   "cell_type": "markdown",
   "metadata": {},
   "source": [
    "matrix operations"
   ]
  },
  {
   "cell_type": "code",
   "execution_count": null,
   "metadata": {},
   "outputs": [],
   "source": []
  }
 ],
 "metadata": {
  "kernelspec": {
   "display_name": "base",
   "language": "python",
   "name": "python3"
  },
  "language_info": {
   "codemirror_mode": {
    "name": "ipython",
    "version": 3
   },
   "file_extension": ".py",
   "mimetype": "text/x-python",
   "name": "python",
   "nbconvert_exporter": "python",
   "pygments_lexer": "ipython3",
   "version": "3.11.5"
  }
 },
 "nbformat": 4,
 "nbformat_minor": 2
}
