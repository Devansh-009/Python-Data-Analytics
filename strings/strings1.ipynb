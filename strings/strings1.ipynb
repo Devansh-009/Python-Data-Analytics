{
 "cells": [
  {
   "cell_type": "code",
   "execution_count": 1,
   "metadata": {},
   "outputs": [
    {
     "name": "stdout",
     "output_type": "stream",
     "text": [
      "<class 'str'> <class 'str'> <class 'str'> <class 'str'>\n",
      "apple\n",
      "banana\n",
      "this is \n",
      "an example of \n",
      "a multiline string\n",
      "another example\n",
      "of a multiline string\n"
     ]
    }
   ],
   "source": [
    "a = 'apple' # single quotes\n",
    "b = \"banana\" #double quotes\n",
    "\n",
    "c = '''this is \n",
    "an example of \n",
    "a multiline string''' #triple quotes\n",
    "\n",
    "d = \"\"\"another example\n",
    "of a multiline string\"\"\" #triple quotes\n",
    "\n",
    "print (type(a), type(b), type(c), type(d))\n",
    "print(a)\n",
    "print(b)\n",
    "print(c)\n",
    "print(d)"
   ]
  },
  {
   "cell_type": "code",
   "execution_count": 2,
   "metadata": {},
   "outputs": [
    {
     "name": "stdout",
     "output_type": "stream",
     "text": [
      "the hippo was 5' tall\n",
      "the hippo was 5' tall\n"
     ]
    }
   ],
   "source": [
    "msg = 'the hippo was 5\\' tall'\n",
    "print (msg)\n",
    "msg = \"the hippo was 5\\' tall\"\n",
    "print(msg)"
   ]
  },
  {
   "cell_type": "code",
   "execution_count": 4,
   "metadata": {},
   "outputs": [
    {
     "name": "stdout",
     "output_type": "stream",
     "text": [
      "9\n",
      "a\n",
      "l\n",
      "e\n",
      "n\n",
      "r\n",
      "n\n"
     ]
    }
   ],
   "source": [
    "name = 'alexander' #iterable\n",
    "print(len(name))\n",
    "print(name[0])\n",
    "print(name[1])\n",
    "print(name[2])\n",
    "print(name[5])\n",
    "print(name[-1])\n",
    "print(name[-4])\n"
   ]
  },
  {
   "cell_type": "code",
   "execution_count": 5,
   "metadata": {},
   "outputs": [
    {
     "name": "stdout",
     "output_type": "stream",
     "text": [
      "alex\n"
     ]
    }
   ],
   "source": [
    "print(name[0], name[1], name[2], name[3], sep='')"
   ]
  },
  {
   "cell_type": "code",
   "execution_count": 7,
   "metadata": {},
   "outputs": [
    {
     "data": {
      "text/plain": [
       "'alexa'"
      ]
     },
     "execution_count": 7,
     "metadata": {},
     "output_type": "execute_result"
    }
   ],
   "source": [
    "name[0:5] #get the value at 0,1,2,3,4 (5 is noty included)"
   ]
  },
  {
   "cell_type": "markdown",
   "metadata": {},
   "source": [
    "slicing syntax\n",
    " str[ start :stop+1]\n",
    " str[start : stop+1 : step]\n",
    " str[: stop+1]"
   ]
  },
  {
   "cell_type": "code",
   "execution_count": 12,
   "metadata": {},
   "outputs": [
    {
     "name": "stdout",
     "output_type": "stream",
     "text": [
      "leonardo\n",
      "vinci\n",
      "da vinci\n",
      "da\n",
      "da\n",
      "da\n"
     ]
    }
   ],
   "source": [
    "n2 = 'leonardo da vinci'\n",
    "print(n2[:8])\n",
    "print(n2[-5:])\n",
    "print(n2[-8:])\n",
    "print(n2[-8:-6])\n",
    "print(n2[9:11])\n",
    "print(n2[9:-6])"
   ]
  },
  {
   "cell_type": "code",
   "execution_count": 20,
   "metadata": {},
   "outputs": [
    {
     "name": "stdout",
     "output_type": "stream",
     "text": [
      "vijay\n",
      " chauhan\n",
      " deenanath chauhan\n",
      "nanath c\n"
     ]
    },
    {
     "data": {
      "text/plain": [
       "'ia ennt hua'"
      ]
     },
     "execution_count": 20,
     "metadata": {},
     "output_type": "execute_result"
    }
   ],
   "source": [
    "n3 = 'vijay deenanath chauhan'\n",
    "print(n3[:5])\n",
    "print(n3[-8:])\n",
    "print(n3[-18:])\n",
    "print(n3[9:-6])\n",
    "n3[::]\n",
    "n3[::2]\n",
    "n3[1::2]\n"
   ]
  },
  {
   "cell_type": "code",
   "execution_count": 21,
   "metadata": {},
   "outputs": [
    {
     "data": {
      "text/plain": [
       "'eao'"
      ]
     },
     "execution_count": 21,
     "metadata": {},
     "output_type": "execute_result"
    }
   ],
   "source": [
    "n2[1:10:3]"
   ]
  },
  {
   "cell_type": "code",
   "execution_count": 22,
   "metadata": {},
   "outputs": [
    {
     "data": {
      "text/plain": [
       "'icniv ad odranoel'"
      ]
     },
     "execution_count": 22,
     "metadata": {},
     "output_type": "execute_result"
    }
   ],
   "source": [
    "n2[::-1]"
   ]
  },
  {
   "cell_type": "code",
   "execution_count": 26,
   "metadata": {},
   "outputs": [
    {
     "name": "stdout",
     "output_type": "stream",
     "text": [
      "this is a quote from brandon sanderson, \n",
      "\"the purpose of a storyteller is not to tell you how to think,\n",
      "but to give you questions to think upon.\"\n",
      "first 50 letters\n",
      "this is a quote from brandon sanderson, \n",
      "\"the purp\n",
      "last50 letters\n",
      "o think,\n",
      "but to give you questions to think upon.\"\n",
      "first 500 letters\n"
     ]
    }
   ],
   "source": [
    "quote = '''this is a quote from brandon sanderson, \n",
    "\"the purpose of a storyteller is not to tell you how to think,\n",
    "but to give you questions to think upon.\"'''\n",
    "print(quote)\n",
    "\n",
    "print('first 50 letters')\n",
    "print(quote[:50])\n",
    "\n",
    "print('last50 letters')\n",
    "print(quote[-50:])\n",
    "\n",
    "print ('first 500 letters')"
   ]
  },
  {
   "cell_type": "code",
   "execution_count": 27,
   "metadata": {},
   "outputs": [
    {
     "name": "stdout",
     "output_type": "stream",
     "text": [
      "65 97 128149\n",
      "A a # 😍\n"
     ]
    }
   ],
   "source": [
    "print(ord('A'), ord('a'), ord('💕'))\n",
    "print(chr(65), chr(97), chr(35), chr(128525))"
   ]
  },
  {
   "cell_type": "code",
   "execution_count": null,
   "metadata": {},
   "outputs": [],
   "source": []
  }
 ],
 "metadata": {
  "kernelspec": {
   "display_name": "base",
   "language": "python",
   "name": "python3"
  },
  "language_info": {
   "codemirror_mode": {
    "name": "ipython",
    "version": 3
   },
   "file_extension": ".py",
   "mimetype": "text/x-python",
   "name": "python",
   "nbconvert_exporter": "python",
   "pygments_lexer": "ipython3",
   "version": "3.11.5"
  }
 },
 "nbformat": 4,
 "nbformat_minor": 2
}
