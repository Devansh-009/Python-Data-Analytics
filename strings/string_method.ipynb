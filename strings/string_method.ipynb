{
 "cells": [
  {
   "cell_type": "markdown",
   "metadata": {},
   "source": [
    "function vs method \n",
    " - function are a block of code that does a particular operation and returns a result,\n",
    " - function are used directly without the need of creating a variable (object) first.\n",
    "\n",
    " - methods\n",
    "    - methods are be used directly\n",
    "    - methods are function that are associated with an variable(object)\n",
    "    - they need to be called using the variable(object) they are associated with\n"
   ]
  },
  {
   "cell_type": "code",
   "execution_count": 2,
   "metadata": {},
   "outputs": [
    {
     "name": "stdout",
     "output_type": "stream",
     "text": [
      "11\n",
      "HELLO WORLD\n"
     ]
    }
   ],
   "source": [
    "print(len(\"hello world\"))\n",
    "print(\"hello world\".upper())"
   ]
  },
  {
   "cell_type": "markdown",
   "metadata": {},
   "source": [
    "string metthod \n",
    "-  formatting \n",
    "     -  upper()\n",
    "     -  lower()\n",
    "     -  capitalize()\n",
    "     -  title()\n",
    "     -  swapcase()\n",
    "     -  casefold()\n",
    "-  validation\n",
    "    - isalpha()\n",
    "    - isalnum()\n",
    "    - isnumeric()\n",
    "    - startswith()\n",
    "    - endswith()\n",
    "    - islower()\n",
    "-  searching\n",
    "    - find()\n",
    "    - count()\n",
    "    - replace()\n",
    "- utility\n",
    "    - split()\n",
    "    - join()\n",
    "    - strip()\n",
    "    - removeprefix()\n",
    "    - removesuffix()\n",
    "\n",
    "    "
   ]
  },
  {
   "cell_type": "code",
   "execution_count": 5,
   "metadata": {},
   "outputs": [
    {
     "name": "stdout",
     "output_type": "stream",
     "text": [
      "this is sparta\n",
      "THIS IS SPARTA\n",
      "This is sparta\n",
      "This Is Sparta\n",
      "THIS IS SPARTA\n",
      "this is sparta\n"
     ]
    }
   ],
   "source": [
    "msg = 'this is sparta'\n",
    "# msg = msg.lower()\n",
    "print(msg.lower())\n",
    "print(msg.upper())\n",
    "print(msg.capitalize())\n",
    "print(msg.title())\n",
    "print(msg.swapcase())\n",
    "print(msg.casefold())"
   ]
  },
  {
   "cell_type": "code",
   "execution_count": 6,
   "metadata": {},
   "outputs": [
    {
     "name": "stdout",
     "output_type": "stream",
     "text": [
      "True\n",
      "False\n",
      "False\n",
      "True\n",
      "False\n",
      "False\n",
      "False\n",
      "True\n",
      "True\n"
     ]
    }
   ],
   "source": [
    "print(\"abc\".isalpha())\n",
    "print(\"abc def\".isalpha())\n",
    "print(\"abc-def\".isalpha())\n",
    "print('123'.isnumeric())\n",
    "print('1,2,3'.isnumeric())\n",
    "print('apple12'.isnumeric())\n",
    "print('3.14'.isnumeric())\n",
    "print('12monkeys'.isalnum())\n",
    "print('monkeys'.isalnum())"
   ]
  },
  {
   "cell_type": "code",
   "execution_count": 8,
   "metadata": {},
   "outputs": [
    {
     "name": "stdout",
     "output_type": "stream",
     "text": [
      "input is correct\n"
     ]
    }
   ],
   "source": [
    "num1 = input('enter a number')\n",
    "if num1.isnumeric():\n",
    "    print('input is correct')\n",
    "    num1 = int(num1)\n",
    "else:\n",
    "    print('input is not correct')"
   ]
  },
  {
   "cell_type": "code",
   "execution_count": 9,
   "metadata": {},
   "outputs": [
    {
     "data": {
      "text/plain": [
       "True"
      ]
     },
     "execution_count": 9,
     "metadata": {},
     "output_type": "execute_result"
    }
   ],
   "source": [
    "name = 'christopher brooks'\n",
    "name.startswith('chris')"
   ]
  },
  {
   "cell_type": "code",
   "execution_count": 11,
   "metadata": {},
   "outputs": [
    {
     "name": "stdout",
     "output_type": "stream",
     "text": [
      "chris\n",
      "christian\n",
      "christina\n",
      "chiranjeev\n"
     ]
    }
   ],
   "source": [
    "names = ['chris', 'christian', 'christina', 'kirsten', 'chiranjeev']\n",
    "for name in names:\n",
    "     if name.startswith('ch'):\n",
    "          print(name)\n",
    "    "
   ]
  },
  {
   "cell_type": "code",
   "execution_count": 14,
   "metadata": {},
   "outputs": [
    {
     "name": "stdout",
     "output_type": "stream",
     "text": [
      "0\n",
      "-1\n",
      "11\n",
      "33\n",
      "47\n",
      "-1\n"
     ]
    }
   ],
   "source": [
    "data = 'this is a long string with some content and is simple string'\n",
    "print(data.find('this'))\n",
    "print(data.find('This'))\n",
    "print(data.find('on'))\n",
    "print(data.find('on',15))\n",
    "print(data.find('simple'))\n",
    "print(data.find('simple',5,30)) #start, end"
   ]
  },
  {
   "cell_type": "code",
   "execution_count": 15,
   "metadata": {},
   "outputs": [
    {
     "name": "stdout",
     "output_type": "stream",
     "text": [
      "3\n",
      "2\n",
      "1\n",
      "0\n"
     ]
    }
   ],
   "source": [
    "print(data.count('is'))\n",
    "print(data.count('a'))\n",
    "print(data.count('simple'))\n",
    "print(data.count('scan'))"
   ]
  },
  {
   "cell_type": "code",
   "execution_count": 16,
   "metadata": {},
   "outputs": [
    {
     "data": {
      "text/plain": [
       "'thwas was a long string with some content and was simple string'"
      ]
     },
     "execution_count": 16,
     "metadata": {},
     "output_type": "execute_result"
    }
   ],
   "source": [
    "data.replace('is','was')"
   ]
  },
  {
   "cell_type": "code",
   "execution_count": 17,
   "metadata": {},
   "outputs": [
    {
     "data": {
      "text/plain": [
       "'thas as a long strang wath somo contont and as samplo strang'"
      ]
     },
     "execution_count": 17,
     "metadata": {},
     "output_type": "execute_result"
    }
   ],
   "source": [
    "data.replace('i','a').replace('e','o')"
   ]
  },
  {
   "cell_type": "code",
   "execution_count": 18,
   "metadata": {},
   "outputs": [
    {
     "data": {
      "text/plain": [
       "'ths s a lng strng wth sm cntnt and s smpl strng'"
      ]
     },
     "execution_count": 18,
     "metadata": {},
     "output_type": "execute_result"
    }
   ],
   "source": [
    "data.replace('i','').replace('e','').replace('o','')"
   ]
  },
  {
   "cell_type": "code",
   "execution_count": 20,
   "metadata": {},
   "outputs": [
    {
     "name": "stdout",
     "output_type": "stream",
     "text": [
      "['this', 'is', 'a', 'long', 'string', 'with', 'some', 'content', 'and', 'is', 'simple', 'string']\n",
      "['th', 's ', 's a long str', 'ng w', 'th some content and ', 's s', 'mple str', 'ng']\n",
      "['this', 'is', 'a', 'long string with some content and is simple string']\n"
     ]
    },
    {
     "data": {
      "text/plain": [
       "['apple,banana,orange']"
      ]
     },
     "execution_count": 20,
     "metadata": {},
     "output_type": "execute_result"
    }
   ],
   "source": [
    "print(data.split())\n",
    "print(data.split('i'))\n",
    "print(data.split(maxsplit=3))\n",
    "\"apple,banana,orange\".split(', ')"
   ]
  },
  {
   "cell_type": "code",
   "execution_count": 21,
   "metadata": {},
   "outputs": [
    {
     "name": "stdout",
     "output_type": "stream",
     "text": [
      "12\n"
     ]
    }
   ],
   "source": [
    "print(len(data.split()))"
   ]
  },
  {
   "cell_type": "code",
   "execution_count": 22,
   "metadata": {},
   "outputs": [
    {
     "name": "stdout",
     "output_type": "stream",
     "text": [
      "123456\n",
      "1 2 3 4 5 6\n",
      "1 ,2 ,3 ,4 ,5 ,6\n",
      "1-x-x2-x-x3-x-x4-x-x5-x-x6\n",
      "1_2_3_4_5_6\n"
     ]
    }
   ],
   "source": [
    "x = ['1','2','3','4','5','6']\n",
    "print(''.join(x))\n",
    "print(' '.join(x))\n",
    "print(' ,'.join(x))\n",
    "print('-x-x'.join(x))\n",
    "print('_'.join(x))"
   ]
  },
  {
   "cell_type": "code",
   "execution_count": null,
   "metadata": {},
   "outputs": [],
   "source": []
  }
 ],
 "metadata": {
  "kernelspec": {
   "display_name": "base",
   "language": "python",
   "name": "python3"
  },
  "language_info": {
   "codemirror_mode": {
    "name": "ipython",
    "version": 3
   },
   "file_extension": ".py",
   "mimetype": "text/x-python",
   "name": "python",
   "nbconvert_exporter": "python",
   "pygments_lexer": "ipython3",
   "version": "3.11.5"
  }
 },
 "nbformat": 4,
 "nbformat_minor": 2
}
