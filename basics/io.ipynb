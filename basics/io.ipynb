{
 "cells": [
  {
   "cell_type": "code",
   "execution_count": 3,
   "metadata": {},
   "outputs": [],
   "source": [
    "name = input('Enter your name')"
   ]
  },
  {
   "cell_type": "code",
   "execution_count": 4,
   "metadata": {},
   "outputs": [],
   "source": [
    "college = input('Enter your college name')\n",
    "city = input ('Enter your city name')"
   ]
  },
  {
   "cell_type": "code",
   "execution_count": 5,
   "metadata": {},
   "outputs": [
    {
     "name": "stdout",
     "output_type": "stream",
     "text": [
      "devansh SRMU Lucknow\n"
     ]
    }
   ],
   "source": [
    "print(name, college , city)"
   ]
  },
  {
   "cell_type": "code",
   "execution_count": 10,
   "metadata": {},
   "outputs": [
    {
     "name": "stdout",
     "output_type": "stream",
     "text": [
      "this is an apple weight 12 kg costs 960 rupees\n"
     ]
    }
   ],
   "source": [
    "qty = 12\n",
    "price = 80*qty\n",
    "print('this is an apple', 'weight', qty, 'kg costs', price, 'rupees')"
   ]
  },
  {
   "cell_type": "code",
   "execution_count": 14,
   "metadata": {},
   "outputs": [
    {
     "data": {
      "text/plain": [
       "'this is an apple. 12 kg costs 960 rupees '"
      ]
     },
     "execution_count": 14,
     "metadata": {},
     "output_type": "execute_result"
    }
   ],
   "source": [
    "f\"this is an apple. {qty} kg costs {price} rupees \""
   ]
  },
  {
   "cell_type": "code",
   "execution_count": 18,
   "metadata": {},
   "outputs": [
    {
     "name": "stdout",
     "output_type": "stream",
     "text": [
      "the answer is 12.50\n",
      "{x} / {y} = {z:.2f}\n"
     ]
    }
   ],
   "source": [
    "x = 50\n",
    "y = 4\n",
    "z = x/y\n",
    "print (f'the answer is {z:.2f}')\n",
    "print (\"{x} / {y} = {z:.2f}\")"
   ]
  },
  {
   "cell_type": "code",
   "execution_count": 20,
   "metadata": {},
   "outputs": [
    {
     "name": "stdout",
     "output_type": "stream",
     "text": [
      "raj 3 chars\n",
      "rajan 5 chars\n",
      "shivam 6 chars\n"
     ]
    }
   ],
   "source": [
    "n1, n2 , n3 = 'raj', 'rajan', 'shivam'\n",
    "print(n1, len(n1), 'chars')\n",
    "print(n2, len(n2), 'chars')\n",
    "print(n3, len(n3), 'chars')"
   ]
  },
  {
   "cell_type": "code",
   "execution_count": 21,
   "metadata": {},
   "outputs": [
    {
     "name": "stdout",
     "output_type": "stream",
     "text": [
      "raj             3 chars\n",
      "rajan           5 chars\n",
      "shivam          6 chars\n"
     ]
    }
   ],
   "source": [
    "print(f'{n1:15} {len(n1)} chars')\n",
    "print(f'{n2:15} {len(n2)} chars')\n",
    "print(f'{n3:15} {len(n3)} chars')"
   ]
  },
  {
   "cell_type": "code",
   "execution_count": 22,
   "metadata": {},
   "outputs": [
    {
     "name": "stdout",
     "output_type": "stream",
     "text": [
      "            raj 3 chars\n",
      "          rajan 5 chars\n",
      "         shivam 6 chars\n"
     ]
    }
   ],
   "source": [
    "print(f'{n1:>15} {len(n1)} chars')\n",
    "print(f'{n2:>15} {len(n2)} chars')\n",
    "print(f'{n3:>15} {len(n3)} chars')"
   ]
  },
  {
   "cell_type": "code",
   "execution_count": 24,
   "metadata": {},
   "outputs": [
    {
     "name": "stdout",
     "output_type": "stream",
     "text": [
      "   raj    3 chars\n",
      "  rajan   5 chars\n",
      " shivam   6 chars\n"
     ]
    }
   ],
   "source": [
    "print(f'{n1:^9} {len(n1)} chars')\n",
    "print(f'{n2:^9} {len(n2)} chars')\n",
    "print(f'{n3:^9} {len(n3)} chars')"
   ]
  },
  {
   "cell_type": "code",
   "execution_count": 25,
   "metadata": {},
   "outputs": [
    {
     "data": {
      "text/plain": [
       "10.0"
      ]
     },
     "execution_count": 25,
     "metadata": {},
     "output_type": "execute_result"
    }
   ],
   "source": [
    "x = 10 # int\n",
    "float(x)"
   ]
  },
  {
   "cell_type": "code",
   "execution_count": 28,
   "metadata": {},
   "outputs": [
    {
     "data": {
      "text/plain": [
       "10.5"
      ]
     },
     "execution_count": 28,
     "metadata": {},
     "output_type": "execute_result"
    }
   ],
   "source": [
    "x = '10.5' #str\n",
    "float(x)"
   ]
  },
  {
   "cell_type": "code",
   "execution_count": 30,
   "metadata": {},
   "outputs": [
    {
     "name": "stdout",
     "output_type": "stream",
     "text": [
      "1000101\n",
      "9\n"
     ]
    }
   ],
   "source": [
    "data = '1000101'\n",
    "print(int(data))\n",
    "data = '1001'\n",
    "print(int(data,2))"
   ]
  },
  {
   "cell_type": "code",
   "execution_count": 31,
   "metadata": {},
   "outputs": [
    {
     "data": {
      "text/plain": [
       "'1290310'"
      ]
     },
     "execution_count": 31,
     "metadata": {},
     "output_type": "execute_result"
    }
   ],
   "source": [
    "data = 1290310\n",
    "str(data)\n"
   ]
  },
  {
   "cell_type": "code",
   "execution_count": 35,
   "metadata": {},
   "outputs": [
    {
     "data": {
      "text/plain": [
       "81"
      ]
     },
     "execution_count": 35,
     "metadata": {},
     "output_type": "execute_result"
    }
   ],
   "source": [
    "a = int(input('enter A:'))\n",
    "b = int(input('enter B:'))\n",
    "a + b"
   ]
  },
  {
   "cell_type": "code",
   "execution_count": null,
   "metadata": {},
   "outputs": [],
   "source": [
    "# wap to find out the simple interest, by taking user input for principle ,rate and time"
   ]
  },
  {
   "cell_type": "code",
   "execution_count": 40,
   "metadata": {},
   "outputs": [
    {
     "name": "stdout",
     "output_type": "stream",
     "text": [
      "rate of interest is si 1.0\n"
     ]
    }
   ],
   "source": [
    "principle = 10\n",
    "rate = 5\n",
    "time = 2\n",
    "print ('rate of interest is si', (principle*time*rate)/100)"
   ]
  },
  {
   "cell_type": "code",
   "execution_count": 43,
   "metadata": {},
   "outputs": [
    {
     "name": "stdout",
     "output_type": "stream",
     "text": [
      "principle = 100000\n",
      "rate = 4.65%\n",
      "year = 10\n",
      "simple interest = 46500.00\n"
     ]
    }
   ],
   "source": [
    "principle = int(input('enter principle'))\n",
    "rate = float(input('enter rate'))\n",
    "time = int(input('enter time'))\n",
    "si = principle * rate * time /100\n",
    "print (f'principle = {principle}')\n",
    "print (f'rate = {rate}%')\n",
    "print(f'year = {time}')\n",
    "print(f'simple interest = {si:.2f}')\n"
   ]
  }
 ],
 "metadata": {
  "kernelspec": {
   "display_name": "base",
   "language": "python",
   "name": "python3"
  },
  "language_info": {
   "codemirror_mode": {
    "name": "ipython",
    "version": 3
   },
   "file_extension": ".py",
   "mimetype": "text/x-python",
   "name": "python",
   "nbconvert_exporter": "python",
   "pygments_lexer": "ipython3",
   "version": "3.11.5"
  }
 },
 "nbformat": 4,
 "nbformat_minor": 2
}
