{
 "cells": [
  {
   "cell_type": "code",
   "execution_count": 1,
   "metadata": {},
   "outputs": [
    {
     "name": "stdout",
     "output_type": "stream",
     "text": [
      "x is bigger then 5\n"
     ]
    }
   ],
   "source": [
    "x = 10\n",
    "if x > 5:\n",
    "    print( 'x is bigger then 5')"
   ]
  },
  {
   "cell_type": "code",
   "execution_count": 3,
   "metadata": {},
   "outputs": [
    {
     "name": "stdout",
     "output_type": "stream",
     "text": [
      "done\n"
     ]
    }
   ],
   "source": [
    "x = 58\n",
    "y = 9\n",
    "if x < y:\n",
    "    print('Answer will be negative')\n",
    "    print(x-y)\n",
    "print('done')    "
   ]
  },
  {
   "cell_type": "code",
   "execution_count": 4,
   "metadata": {},
   "outputs": [
    {
     "name": "stdout",
     "output_type": "stream",
     "text": [
      "xis an even number\n"
     ]
    }
   ],
   "source": [
    "x = 10\n",
    "if x % 2 == 0:\n",
    "    print('xis an even number')"
   ]
  },
  {
   "cell_type": "code",
   "execution_count": 6,
   "metadata": {},
   "outputs": [
    {
     "name": "stdout",
     "output_type": "stream",
     "text": [
      "x is a odd number\n"
     ]
    }
   ],
   "source": [
    "x = 11\n",
    "if x % 2 == 0:\n",
    "    print('xis an even number')\n",
    "else:\n",
    "    print('x is a odd number')"
   ]
  },
  {
   "cell_type": "code",
   "execution_count": 8,
   "metadata": {},
   "outputs": [
    {
     "name": "stdout",
     "output_type": "stream",
     "text": [
      "loan amount is equal to 4\n"
     ]
    }
   ],
   "source": [
    "# if loan_amount > 500000 then rate = 3, else rate = 4\n",
    "\n",
    "x = 500000\n",
    "if x % 3 == 4:\n",
    "    print('loan amount is less then 3')\n",
    "else:\n",
    "    print('loan amount is equal to 4')"
   ]
  },
  {
   "cell_type": "code",
   "execution_count": 1,
   "metadata": {},
   "outputs": [
    {
     "name": "stdout",
     "output_type": "stream",
     "text": [
      "simple interest is 800.0 with interest rate=4%\n"
     ]
    }
   ],
   "source": [
    "p = int(input('enter loan amount: '))\n",
    "if p > 500000:\n",
    "    r = 3\n",
    "else:\n",
    "    r = 4 \n",
    "t = int(input('enter loan tenure:'))\n",
    "si = p * r * t / 100\n",
    "print(f'simple interest is {si} with interest rate={r}%')"
   ]
  },
  {
   "cell_type": "markdown",
   "metadata": {},
   "source": [
    "putting i else in single line"
   ]
  },
  {
   "cell_type": "code",
   "execution_count": 10,
   "metadata": {},
   "outputs": [
    {
     "name": "stdout",
     "output_type": "stream",
     "text": [
      "10\n",
      "5\n"
     ]
    }
   ],
   "source": [
    "x = 10\n",
    "if x > 10:\n",
    "    y = 20\n",
    "else:\n",
    "    y = 5\n",
    "print(x)\n",
    "print(y)"
   ]
  },
  {
   "cell_type": "code",
   "execution_count": 11,
   "metadata": {},
   "outputs": [
    {
     "name": "stdout",
     "output_type": "stream",
     "text": [
      "11 20\n"
     ]
    }
   ],
   "source": [
    "x = 11\n",
    "y=20 if x > 10 else 5\n",
    "print(x , y)"
   ]
  },
  {
   "cell_type": "code",
   "execution_count": 4,
   "metadata": {},
   "outputs": [
    {
     "name": "stdout",
     "output_type": "stream",
     "text": [
      "you got more then 90% marks\n"
     ]
    }
   ],
   "source": [
    "grade = 'O'\n",
    "if grade == 'O':\n",
    "    print(\"you got more then 90% marks\")\n",
    "elif grade == 'A':\n",
    "    print(\"you got more then 75% marks\")\n",
    "elif grade == 'B':\n",
    "    print(\"you got more then 60% marks\")\n",
    "elif grade == 'C':\n",
    "    print(\"you got more then 50% marks\")\n",
    "elif grade == 'D':\n",
    "    print(\"you failed\")\n"
   ]
  },
  {
   "cell_type": "markdown",
   "metadata": {},
   "source": [
    "calculate"
   ]
  },
  {
   "cell_type": "code",
   "execution_count": 8,
   "metadata": {},
   "outputs": [
    {
     "name": "stdout",
     "output_type": "stream",
     "text": [
      "100000 + 8000.0 + 5000.0 + 10000.0 =>  123000.0\n"
     ]
    }
   ],
   "source": [
    "bs = 100000\n",
    "if bs > 100000 :\n",
    "    bonus = .2 * bs\n",
    "    hra = .15 * bs\n",
    "    da = .1 * bs\n",
    "elif bs > 75000:\n",
    "     bonus = .1 * bs\n",
    "     hra = .08 * bs\n",
    "     da = .05 * bs\n",
    "elif bs > 50000:\n",
    "     bonus = .05 * bs\n",
    "     hra = .03 * bs\n",
    "     da = .02 * bs\n",
    "elif bs <= 50000:\n",
    "     bonus = .1 * bs\n",
    "     hra = .05 * bs\n",
    "     da = .03 * bs\n",
    "totalsalery = bonus + hra + da + bs\n",
    "print(f'{bs} + {hra} + {da} + {bonus} =>  {totalsalery}')\n"
   ]
  },
  {
   "cell_type": "markdown",
   "metadata": {},
   "source": [
    "match case in python \n",
    "- used to much the value of a variable with a pattern\n",
    "- if ther pattern matches the corresponding block of a code is executed\n",
    "\n",
    "match variable :\n",
    "  case pattern1 :\n",
    "    block of code\n",
    "case pattern 2:\n",
    " block of code"
   ]
  },
  {
   "cell_type": "code",
   "execution_count": 9,
   "metadata": {},
   "outputs": [
    {
     "name": "stdout",
     "output_type": "stream",
     "text": [
      "pizza cost rs. 400\n",
      "not available\n"
     ]
    }
   ],
   "source": [
    "choice = input ('what would you like to have?')\n",
    "match choice:\n",
    "    case \"burger\":\n",
    "        print(\"MCDonalds burger cost rs. 100\")\n",
    "        print(\"that is not an option\")\n",
    "    case \"chole bhature\":\n",
    "        print(\"chole bhature cost rs. 50\")\n",
    "        print(\"its a valid option\")\n",
    "    case \"pizza\":\n",
    "        print(\"pizza cost rs. 400\")\n",
    "        print(\"not available\")\n",
    "    case \"sandwich\":\n",
    "        print(\"sandwich cost rs. 150\")\n",
    "        print(\"not available\")\n",
    "    case _:\n",
    "        print(\"invalid choice\")\n",
    "\n",
    "\n"
   ]
  },
  {
   "cell_type": "code",
   "execution_count": null,
   "metadata": {},
   "outputs": [],
   "source": []
  }
 ],
 "metadata": {
  "kernelspec": {
   "display_name": "base",
   "language": "python",
   "name": "python3"
  },
  "language_info": {
   "codemirror_mode": {
    "name": "ipython",
    "version": 3
   },
   "file_extension": ".py",
   "mimetype": "text/x-python",
   "name": "python",
   "nbconvert_exporter": "python",
   "pygments_lexer": "ipython3",
   "version": "3.11.5"
  }
 },
 "nbformat": 4,
 "nbformat_minor": 2
}
