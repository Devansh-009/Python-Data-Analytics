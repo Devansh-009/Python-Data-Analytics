{
 "cells": [
  {
   "cell_type": "markdown",
   "metadata": {},
   "source": [
    "# data structures in python \n",
    "- list\n",
    "    - indexed,ordered,**mutable**,allows duplicate members,`[ ]`\n",
    "\n",
    "- tuple\n",
    "    - indexed,ordered,**immutable**,allows duplicate members,`( )`\n",
    "\n",
    "- set\n",
    "    - unindexed,**unordered**,mutable,unique values only,{ }\n",
    "\n",
    "- dict \n",
    "    - ordered,mutable ,unique keys only, allows duplicate values,{ key: values}"
   ]
  },
  {
   "cell_type": "markdown",
   "metadata": {},
   "source": [
    "List\n",
    "  - creating\n",
    "  - indexing and slicing\n",
    "  - methods \n",
    "  - traversal"
   ]
  },
  {
   "cell_type": "code",
   "execution_count": 1,
   "metadata": {},
   "outputs": [],
   "source": [
    "x = []\n",
    "a = [1, 2, 3, 4]\n",
    "names = ['alex','arti','anupam']\n",
    "mixed = [1, 'alex', 2, 'arti']\n",
    "nested = [1, [2, 3], 4]"
   ]
  },
  {
   "cell_type": "code",
   "execution_count": 2,
   "metadata": {},
   "outputs": [
    {
     "name": "stdout",
     "output_type": "stream",
     "text": [
      "[[1, 2, 3], [1, 2, 3], [1, 2, 3]]\n",
      "[1, 2, 3, 1, 2, 3, 1, 2, 3, 1, 2, 3, 1, 2, 3]\n",
      "[1, 1, 1, 1, 1, 1, 1, 1, 1, 1]\n"
     ]
    }
   ],
   "source": [
    "# creating a duplicate list\n",
    "a = [1,2,3]\n",
    "b = [a,a,a]\n",
    "print(b)\n",
    "#another way to create a duplicate list without nesting\n",
    "c = a * 5\n",
    "print (c)\n",
    "#another one \\\n",
    "d = [1] * 10\n",
    "print(d)"
   ]
  },
  {
   "cell_type": "code",
   "execution_count": 6,
   "metadata": {},
   "outputs": [
    {
     "name": "stdout",
     "output_type": "stream",
     "text": [
      "1\n",
      "10\n",
      "[1, 2, 3, 4, 5]\n",
      "[6, 7, 8, 9, 10]\n",
      "[2, 4, 6, 8, 10]\n",
      "[1, 3, 5, 7, 9]\n",
      "[10, 9, 8, 7, 6, 5, 4, 3, 2, 1]\n",
      "[7, 6, 5, 4, 3, 2, 1]\n"
     ]
    }
   ],
   "source": [
    "numbers = [1,2,3,4,5,6,7,8,9,10]\n",
    "print(numbers[0])\n",
    "print(numbers[-1])\n",
    "print(numbers[:5])\n",
    "print(numbers[-5:])\n",
    "print(numbers[1::2])\n",
    "print(numbers[::2])\n",
    "print(numbers[::-1])\n",
    "print(numbers[6::-1])"
   ]
  },
  {
   "cell_type": "markdown",
   "metadata": {},
   "source": [
    "# methods in list - 11\n",
    "- adding elements \n",
    "   - append\n",
    "   - extend\n",
    "   - insert\n",
    "- removing elements\n",
    "   - pop\n",
    "   - remove \n",
    "   - clear\n",
    "- utility methods\n",
    "   - index \n",
    "   - count\n",
    "   - sort\n",
    "   - reverse\n",
    "   - copy   "
   ]
  },
  {
   "cell_type": "code",
   "execution_count": 16,
   "metadata": {},
   "outputs": [
    {
     "name": "stdout",
     "output_type": "stream",
     "text": [
      "['apple', 12, 'banana', 'banana', 'banana', 'banana', 12, 12, 'apple', 'apple']\n"
     ]
    }
   ],
   "source": [
    "x.append('apple')\n",
    "print(x)"
   ]
  },
  {
   "cell_type": "code",
   "execution_count": 14,
   "metadata": {},
   "outputs": [
    {
     "name": "stdout",
     "output_type": "stream",
     "text": [
      "['apple', 12, 'banana', 'banana', 'banana', 'banana', 12, 12]\n"
     ]
    }
   ],
   "source": [
    "x.append(12)\n",
    "print(x)"
   ]
  },
  {
   "cell_type": "code",
   "execution_count": 12,
   "metadata": {},
   "outputs": [
    {
     "name": "stdout",
     "output_type": "stream",
     "text": [
      "['apple', 12, 'banana', 'banana', 'banana', 'banana']\n"
     ]
    }
   ],
   "source": [
    "x.append('banana')\n",
    "print(x)"
   ]
  },
  {
   "cell_type": "code",
   "execution_count": 17,
   "metadata": {},
   "outputs": [
    {
     "name": "stdout",
     "output_type": "stream",
     "text": [
      "['warbreaker', 'legion', 'the sunlit man', 'stormlight archive', 'trees of emerald sea']\n"
     ]
    }
   ],
   "source": [
    "books = []\n",
    "for i in range(5):\n",
    "    books.append(input('enter a book: '))\n",
    "print(books)    "
   ]
  },
  {
   "cell_type": "code",
   "execution_count": 18,
   "metadata": {},
   "outputs": [],
   "source": [
    "more_books= ['harry potter', 'lord of the rings', 'the hobbit']"
   ]
  },
  {
   "cell_type": "code",
   "execution_count": 19,
   "metadata": {},
   "outputs": [
    {
     "data": {
      "text/plain": [
       "['warbreaker',\n",
       " 'legion',\n",
       " 'the sunlit man',\n",
       " 'stormlight archive',\n",
       " 'trees of emerald sea',\n",
       " 'harry potter',\n",
       " 'lord of the rings',\n",
       " 'the hobbit']"
      ]
     },
     "execution_count": 19,
     "metadata": {},
     "output_type": "execute_result"
    }
   ],
   "source": [
    "books.extend(more_books)\n",
    "books"
   ]
  },
  {
   "cell_type": "code",
   "execution_count": 20,
   "metadata": {},
   "outputs": [
    {
     "data": {
      "text/plain": [
       "['warbreaker',\n",
       " 'legion',\n",
       " 'the sunlit man',\n",
       " 'stormlight archive',\n",
       " 'trees of emerald sea',\n",
       " \"harry potter and the sorcerer's stone\",\n",
       " 'lord of the rings',\n",
       " 'the hobbit']"
      ]
     },
     "execution_count": 20,
     "metadata": {},
     "output_type": "execute_result"
    }
   ],
   "source": [
    "books[-3] = \"harry potter and the sorcerer's stone\"\n",
    "books"
   ]
  },
  {
   "cell_type": "code",
   "execution_count": 21,
   "metadata": {},
   "outputs": [
    {
     "data": {
      "text/plain": [
       "['warbreaker',\n",
       " 'legion',\n",
       " 'the sunlit man',\n",
       " 'stormlight archive',\n",
       " 'trees of emerald sea',\n",
       " \"harry potter and the sorcerer's stone\",\n",
       " 'harry potter and the chamber of secrets',\n",
       " 'lord of the rings',\n",
       " 'the hobbit']"
      ]
     },
     "execution_count": 21,
     "metadata": {},
     "output_type": "execute_result"
    }
   ],
   "source": [
    "books.insert(-2, 'harry potter and the chamber of secrets')\n",
    "books"
   ]
  },
  {
   "cell_type": "code",
   "execution_count": 22,
   "metadata": {},
   "outputs": [],
   "source": [
    "if 'warbreaker' in books:\n",
    "    books.remove('warbreaker')\n",
    "\n"
   ]
  },
  {
   "cell_type": "code",
   "execution_count": 23,
   "metadata": {},
   "outputs": [
    {
     "data": {
      "text/plain": [
       "'the hobbit'"
      ]
     },
     "execution_count": 23,
     "metadata": {},
     "output_type": "execute_result"
    }
   ],
   "source": [
    "books.pop()"
   ]
  },
  {
   "cell_type": "code",
   "execution_count": 24,
   "metadata": {},
   "outputs": [
    {
     "data": {
      "text/plain": [
       "'trees of emerald sea'"
      ]
     },
     "execution_count": 24,
     "metadata": {},
     "output_type": "execute_result"
    }
   ],
   "source": [
    "books.pop(3)"
   ]
  },
  {
   "cell_type": "code",
   "execution_count": null,
   "metadata": {},
   "outputs": [],
   "source": []
  }
 ],
 "metadata": {
  "kernelspec": {
   "display_name": "base",
   "language": "python",
   "name": "python3"
  },
  "language_info": {
   "codemirror_mode": {
    "name": "ipython",
    "version": 3
   },
   "file_extension": ".py",
   "mimetype": "text/x-python",
   "name": "python",
   "nbconvert_exporter": "python",
   "pygments_lexer": "ipython3",
   "version": "3.11.5"
  }
 },
 "nbformat": 4,
 "nbformat_minor": 2
}
