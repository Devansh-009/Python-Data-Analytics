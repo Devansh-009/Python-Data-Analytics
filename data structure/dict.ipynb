{
 "cells": [
  {
   "cell_type": "code",
   "execution_count": 1,
   "metadata": {},
   "outputs": [],
   "source": [
    "x = ['rohan','5 feet',18,False,\n",
    "     'undergraduate', 'BBA','basketball','chocolate']"
   ]
  },
  {
   "cell_type": "code",
   "execution_count": 2,
   "metadata": {},
   "outputs": [
    {
     "name": "stdout",
     "output_type": "stream",
     "text": [
      "18\n",
      "chocolate\n",
      "BBA\n",
      "['rohan', '5 feet', 18, False, 'undergraduate', 'BBA', 'basketball', 'chocolate']\n"
     ]
    }
   ],
   "source": [
    "print(x[2])\n",
    "print(x[-1])\n",
    "print(x[-3])\n",
    "print(x)"
   ]
  },
  {
   "cell_type": "code",
   "execution_count": 4,
   "metadata": {},
   "outputs": [
    {
     "name": "stdout",
     "output_type": "stream",
     "text": [
      "18\n",
      "chocolate\n"
     ]
    }
   ],
   "source": [
    "xd = {'name':'rohan',\n",
    "    'height':'5 ft',\n",
    "    'age':'18',\n",
    "    'is_married':'False',\n",
    "    'edu_level':'undergraduate',\n",
    "    'degree':'BBA',\n",
    "    'fav_food':'chocolate',\n",
    "}\n",
    "print(xd['age'])\n",
    "print(xd['fav_food'])"
   ]
  },
  {
   "cell_type": "code",
   "execution_count": 8,
   "metadata": {},
   "outputs": [
    {
     "name": "stdout",
     "output_type": "stream",
     "text": [
      "{0: 45, 1: 45, 2: 45, 3: 55, 4: 84}\n"
     ]
    }
   ],
   "source": [
    "nums = {}\n",
    "for i in range (5):\n",
    "    value = int(input(\"enter a number: \"))\n",
    "    nums[i] = value\n",
    "print(nums)    "
   ]
  },
  {
   "cell_type": "markdown",
   "metadata": {},
   "source": [
    "dictionary methods\n",
    " - add (no method for adding a single key: value )\n",
    " - remove\n",
    " - get\n",
    " - update\n",
    " - keys\n",
    " - values\n",
    " - items"
   ]
  },
  {
   "cell_type": "code",
   "execution_count": 5,
   "metadata": {},
   "outputs": [
    {
     "data": {
      "text/plain": [
       "{'animal': 8.4, 'sam bahadur': 9.0, 'gangs of waseypur': 8.4}"
      ]
     },
     "execution_count": 5,
     "metadata": {},
     "output_type": "execute_result"
    }
   ],
   "source": [
    "movies = {'animal':8.4}\n",
    "movies['sam bahadur'] =9.0\n",
    "movies['gangs of waseypur'] = 8.4\n",
    "movies"
   ]
  },
  {
   "cell_type": "code",
   "execution_count": 6,
   "metadata": {},
   "outputs": [],
   "source": [
    "movies['animal'] = 7\n",
    "movies['fast x'] = 9\n",
    "movies['dream girl'] = 8.4"
   ]
  },
  {
   "cell_type": "code",
   "execution_count": 8,
   "metadata": {},
   "outputs": [],
   "source": [
    "for i in range(3):\n",
    "    key = input(\"enter a movie name:\")\n",
    "    value = float(input(\"enter the rating:\"))\n",
    "    movies[key] = value\n",
    "    "
   ]
  },
  {
   "cell_type": "code",
   "execution_count": null,
   "metadata": {},
   "outputs": [
    {
     "data": {
      "text/plain": [
       "{'animal': 8.4,\n",
       " 'sam bahadur': 9.0,\n",
       " 'gangs of waseypur': 8.4,\n",
       " 'fast x': 9.0,\n",
       " 'dream girl': 8.4,\n",
       " 'agnipath': 8.4,\n",
       " 'javan': 9.0,\n",
       " 'pathan': 7.0}"
      ]
     },
     "execution_count": 17,
     "metadata": {},
     "output_type": "execute_result"
    }
   ],
   "source": [
    "movies"
   ]
  },
  {
   "cell_type": "code",
   "execution_count": 9,
   "metadata": {},
   "outputs": [
    {
     "data": {
      "text/plain": [
       "9"
      ]
     },
     "execution_count": 9,
     "metadata": {},
     "output_type": "execute_result"
    }
   ],
   "source": [
    "movies.pop('fast x')"
   ]
  },
  {
   "cell_type": "code",
   "execution_count": 10,
   "metadata": {},
   "outputs": [
    {
     "data": {
      "text/plain": [
       "('bramhastra', 9.0)"
      ]
     },
     "execution_count": 10,
     "metadata": {},
     "output_type": "execute_result"
    }
   ],
   "source": [
    "movies.popitem()"
   ]
  },
  {
   "cell_type": "code",
   "execution_count": 11,
   "metadata": {},
   "outputs": [
    {
     "data": {
      "text/plain": [
       "{'animal': 7,\n",
       " 'sam bahadur': 9.0,\n",
       " 'gangs of waseypur': 8.4,\n",
       " 'dream girl': 8.4,\n",
       " 'javan': 8.4,\n",
       " 'pathan': 9.0}"
      ]
     },
     "execution_count": 11,
     "metadata": {},
     "output_type": "execute_result"
    }
   ],
   "source": [
    "movies"
   ]
  },
  {
   "cell_type": "code",
   "execution_count": 12,
   "metadata": {},
   "outputs": [
    {
     "name": "stdout",
     "output_type": "stream",
     "text": [
      "7\n",
      "7\n"
     ]
    }
   ],
   "source": [
    "print(movies['animal'])\n",
    "print(movies['animal'])"
   ]
  },
  {
   "cell_type": "code",
   "execution_count": 13,
   "metadata": {},
   "outputs": [
    {
     "name": "stdout",
     "output_type": "stream",
     "text": [
      "7\n",
      "not found\n"
     ]
    }
   ],
   "source": [
    "print(movies.get('animal','not found'))\n",
    "print(movies.get('mal', 'not found'))"
   ]
  },
  {
   "cell_type": "code",
   "execution_count": 14,
   "metadata": {},
   "outputs": [
    {
     "name": "stdout",
     "output_type": "stream",
     "text": [
      "7\n",
      "None\n"
     ]
    }
   ],
   "source": [
    "print(movies.get('animal'))\n",
    "print(movies.get('ani'))"
   ]
  },
  {
   "cell_type": "code",
   "execution_count": 15,
   "metadata": {},
   "outputs": [
    {
     "name": "stdout",
     "output_type": "stream",
     "text": [
      "animal              7.0\n",
      "sam bahadur         9.0\n",
      "gangs of waseypur   8.4\n",
      "dream girl          8.4\n",
      "javan               8.4\n",
      "pathan              9.0\n"
     ]
    }
   ],
   "source": [
    "for k,y in movies.items():\n",
    "    print(f'{k:20}{y:.1f}')"
   ]
  },
  {
   "cell_type": "code",
   "execution_count": null,
   "metadata": {},
   "outputs": [],
   "source": []
  }
 ],
 "metadata": {
  "kernelspec": {
   "display_name": "base",
   "language": "python",
   "name": "python3"
  },
  "language_info": {
   "codemirror_mode": {
    "name": "ipython",
    "version": 3
   },
   "file_extension": ".py",
   "mimetype": "text/x-python",
   "name": "python",
   "nbconvert_exporter": "python",
   "pygments_lexer": "ipython3",
   "version": "3.11.5"
  }
 },
 "nbformat": 4,
 "nbformat_minor": 2
}
