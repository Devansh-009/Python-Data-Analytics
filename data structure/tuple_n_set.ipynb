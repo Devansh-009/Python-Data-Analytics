{
 "cells": [
  {
   "cell_type": "code",
   "execution_count": 1,
   "metadata": {},
   "outputs": [
    {
     "name": "stdout",
     "output_type": "stream",
     "text": [
      "(1, 2, 3, 4) <class 'tuple'>\n",
      "(1, 2, 3, 4) <class 'tuple'>\n"
     ]
    }
   ],
   "source": [
    "x = (1,2,3,4)\n",
    "print(x, type(x))\n",
    "y = 1,2,3,4\n",
    "print(y, type(y))"
   ]
  },
  {
   "cell_type": "code",
   "execution_count": 2,
   "metadata": {},
   "outputs": [
    {
     "name": "stdout",
     "output_type": "stream",
     "text": [
      "(10, 20) <class 'tuple'>\n"
     ]
    }
   ],
   "source": [
    "a = 10\n",
    "b = 20\n",
    "x = a,b\n",
    "print(x, type(x))"
   ]
  },
  {
   "cell_type": "code",
   "execution_count": 3,
   "metadata": {},
   "outputs": [
    {
     "name": "stdout",
     "output_type": "stream",
     "text": [
      "1\n",
      "6\n",
      "(3, 4, 5)\n"
     ]
    }
   ],
   "source": [
    "a = (1,2,3,4,5,6)\n",
    "print (a[0])\n",
    "print (a[-1])\n",
    "print (a[2:5])"
   ]
  },
  {
   "cell_type": "code",
   "execution_count": 4,
   "metadata": {},
   "outputs": [
    {
     "name": "stdout",
     "output_type": "stream",
     "text": [
      "5\n",
      "4\n"
     ]
    }
   ],
   "source": [
    "# tuple method\n",
    "a = (11,12,13,14,15,15,13,13,13,13)\n",
    "print(a.count(13))\n",
    "print(a.index(15))"
   ]
  },
  {
   "cell_type": "markdown",
   "metadata": {},
   "source": [
    "list-tuple-set-conversion"
   ]
  },
  {
   "cell_type": "code",
   "execution_count": 5,
   "metadata": {},
   "outputs": [
    {
     "name": "stdout",
     "output_type": "stream",
     "text": [
      "[1, 2, 3, 4, 5, 5] (1, 2, 3, 4, 5, 5)\n",
      "[1, 2, 3, 4, 5, 5] {1, 2, 3, 4, 5} {1, 2, 3, 4, 5}\n",
      "[1, 2, 3, 4, 5] (1, 2, 3, 4, 5)\n"
     ]
    }
   ],
   "source": [
    "xlist = [1,2,3,4,5,5]\n",
    "xtup = tuple(xlist)\n",
    "print(xlist,xtup)\n",
    "xlist2 = list(xtup)\n",
    "xset = set(xtup)\n",
    "xset2 = set(xlist)\n",
    "print(xlist2,xset,xset2)\n",
    "xlist3 = list(xset)\n",
    "xtup2 = tuple(xset)\n",
    "print(xlist3,xtup2)"
   ]
  },
  {
   "cell_type": "markdown",
   "metadata": {},
   "source": [
    "SET"
   ]
  },
  {
   "cell_type": "code",
   "execution_count": 6,
   "metadata": {},
   "outputs": [
    {
     "name": "stdout",
     "output_type": "stream",
     "text": [
      "{1, 2, 3, 4} <class 'set'>\n",
      "{} <class 'dict'>\n",
      "set() <class 'set'>\n"
     ]
    }
   ],
   "source": [
    "x = {1,2,3,4}\n",
    "print(x, type(x))\n",
    "x = {}\n",
    "print(x, type(x))\n",
    "x = set()\n",
    "print(x,type(x))"
   ]
  },
  {
   "cell_type": "code",
   "execution_count": 8,
   "metadata": {},
   "outputs": [
    {
     "name": "stdout",
     "output_type": "stream",
     "text": [
      "{10, 20}\n",
      "{'apple', 10, 20, 'banana'}\n"
     ]
    }
   ],
   "source": [
    "x.add(10)\n",
    "x.add(20)\n",
    "x.add(10)\n",
    "print(x)\n",
    "x.add('apple')\n",
    "x.add('banana')\n",
    "print(x)"
   ]
  },
  {
   "cell_type": "code",
   "execution_count": 10,
   "metadata": {},
   "outputs": [
    {
     "name": "stdout",
     "output_type": "stream",
     "text": [
      "{'apple', 20, 'banana'}\n"
     ]
    }
   ],
   "source": [
    "x.discard(10)\n",
    "print(x)"
   ]
  },
  {
   "cell_type": "code",
   "execution_count": 11,
   "metadata": {},
   "outputs": [
    {
     "name": "stdout",
     "output_type": "stream",
     "text": [
      "{1, 2, 3, 'banana', 'apple', 10, 20}\n"
     ]
    }
   ],
   "source": [
    "x.update([1,2,3,10])\n",
    "print(x)"
   ]
  },
  {
   "cell_type": "code",
   "execution_count": 12,
   "metadata": {},
   "outputs": [
    {
     "name": "stdout",
     "output_type": "stream",
     "text": [
      "{1, 2, 3, 4, 5, 6, 7, 8}\n",
      "{1, 2, 3}\n",
      "{8, 6, 7}\n",
      "{4, 5}\n",
      "{1, 2, 3, 6, 7, 8}\n"
     ]
    }
   ],
   "source": [
    "x = {1,2,3,4,5}\n",
    "y = {4,5,6,7,8}\n",
    "xy = x.union(y)\n",
    "print(xy)\n",
    "x_y = x.difference(y)\n",
    "print(x_y)\n",
    "y_x = y.difference(x)\n",
    "print(y_x)\n",
    "xiy = x.intersection(y)\n",
    "print(xiy)\n",
    "xuy = x.symmetric_difference(y)\n",
    "print(xuy)"
   ]
  },
  {
   "cell_type": "code",
   "execution_count": 13,
   "metadata": {},
   "outputs": [
    {
     "name": "stdout",
     "output_type": "stream",
     "text": [
      "\n",
      "Items containing the letter 'a':\n",
      "banana\n",
      "apple\n",
      "dragonfruites\n",
      "grapes\n",
      "wattermellon\n",
      "pinapple\n",
      "gowava\n",
      "sweetpotato\n"
     ]
    }
   ],
   "source": [
    "# wap to create a set of 10 items given by user and then display only those that contain the letters'a' in them using for loop\n",
    "items_set = set()\n",
    "for i in range(10):\n",
    "    item = input(f\"Enter item {i + 1}: \")\n",
    "    items_set.add(item)\n",
    "print(\"\\nItems containing the letter 'a':\")\n",
    "for item in items_set:\n",
    "    if 'a' in item.lower():\n",
    "        print(item)"
   ]
  },
  {
   "cell_type": "code",
   "execution_count": 14,
   "metadata": {},
   "outputs": [
    {
     "name": "stdout",
     "output_type": "stream",
     "text": [
      "elaichy\n",
      "banana\n",
      "apple\n",
      "falsefruite\n",
      "apple \n",
      "hazelnut\n"
     ]
    }
   ],
   "source": [
    "data = set()\n",
    "for i in range(10):\n",
    "    data.add(input('enter an item:'))\n",
    "for i in data:\n",
    "    if 'a' in i :\n",
    "        print(i)   "
   ]
  },
  {
   "cell_type": "code",
   "execution_count": 1,
   "metadata": {},
   "outputs": [
    {
     "name": "stdout",
     "output_type": "stream",
     "text": [
      "129\n"
     ]
    }
   ],
   "source": [
    "print(2**3+(5+6)**(1+1))"
   ]
  },
  {
   "cell_type": "code",
   "execution_count": null,
   "metadata": {},
   "outputs": [],
   "source": []
  }
 ],
 "metadata": {
  "kernelspec": {
   "display_name": "base",
   "language": "python",
   "name": "python3"
  },
  "language_info": {
   "codemirror_mode": {
    "name": "ipython",
    "version": 3
   },
   "file_extension": ".py",
   "mimetype": "text/x-python",
   "name": "python",
   "nbconvert_exporter": "python",
   "pygments_lexer": "ipython3",
   "version": "3.11.5"
  }
 },
 "nbformat": 4,
 "nbformat_minor": 2
}
