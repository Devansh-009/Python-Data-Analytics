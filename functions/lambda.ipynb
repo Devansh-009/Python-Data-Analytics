{
 "cells": [
  {
   "cell_type": "markdown",
   "metadata": {},
   "source": [
    "#lambda expression\n",
    "- anonymous function a function wihthout a name\n",
    "- and they stored a variable which can be called later like a function\n",
    "\n",
    "a simple function in math look like\n",
    "\n",
    "f(x)= x**2 + x - 1\n",
    "or\n",
    "g(x,y) = x + y\n",
    "f(3)\n",
    "g(3,4)"
   ]
  },
  {
   "cell_type": "code",
   "execution_count": 1,
   "metadata": {},
   "outputs": [
    {
     "data": {
      "text/plain": [
       "10099"
      ]
     },
     "execution_count": 1,
     "metadata": {},
     "output_type": "execute_result"
    }
   ],
   "source": [
    "f = lambda x : x**2 + x - 1\n",
    "f(100)\n"
   ]
  },
  {
   "cell_type": "code",
   "execution_count": 2,
   "metadata": {},
   "outputs": [
    {
     "data": {
      "text/plain": [
       "5"
      ]
     },
     "execution_count": 2,
     "metadata": {},
     "output_type": "execute_result"
    }
   ],
   "source": [
    "g = lambda x,y:x+y\n",
    "g(2,3)"
   ]
  },
  {
   "cell_type": "code",
   "execution_count": 3,
   "metadata": {},
   "outputs": [
    {
     "data": {
      "text/plain": [
       "139"
      ]
     },
     "execution_count": 3,
     "metadata": {},
     "output_type": "execute_result"
    }
   ],
   "source": [
    "f(10) + g(10, 20)"
   ]
  },
  {
   "cell_type": "markdown",
   "metadata": {},
   "source": [
    "(x**2 + y**2) ** .5"
   ]
  },
  {
   "cell_type": "code",
   "execution_count": 4,
   "metadata": {},
   "outputs": [
    {
     "name": "stdout",
     "output_type": "stream",
     "text": [
      "17.69180601295413\n"
     ]
    }
   ],
   "source": [
    "hyp = lambda x, y:  (x**2 + y**2) ** 0.5\n",
    "ans = hyp(13, 12)\n",
    "print(ans)"
   ]
  },
  {
   "cell_type": "markdown",
   "metadata": {},
   "source": [
    "map & filter\n",
    "\n",
    "- map  - apply a function to every element in a sequence (iterable)\n",
    "- filter - apply a function to every element in a sequence (iterable), return onlythe element that evaluate to true"
   ]
  },
  {
   "cell_type": "code",
   "execution_count": 5,
   "metadata": {},
   "outputs": [
    {
     "name": "stdout",
     "output_type": "stream",
     "text": [
      "[2, 3, 4, 5]\n",
      "[4, 9, 16, 25]\n"
     ]
    }
   ],
   "source": [
    "x = [2,3,4,5]\n",
    "x2 = []\n",
    "for i in x:\n",
    "    s = i**2\n",
    "    x2.append(s)\n",
    "print(x)\n",
    "print(x2)    "
   ]
  },
  {
   "cell_type": "code",
   "execution_count": 8,
   "metadata": {},
   "outputs": [
    {
     "name": "stdout",
     "output_type": "stream",
     "text": [
      "[2, 3, 4, 5, 6, 7, 10]\n",
      "[4, 9, 16, 25, 36, 49, 100]\n",
      "[8, 27, 64, 125, 216, 343, 1000]\n",
      "[-8, -7, -6, -5, -4, -3, 0]\n"
     ]
    }
   ],
   "source": [
    "x = [2,3,4,5,6,7,10]\n",
    "x2 = list(map(lambda i: i**2, x))\n",
    "x3 = list(map(lambda i: i**3, x))\n",
    "x10 = list(map(lambda i: i-10, x))\n",
    "print(x)\n",
    "print(x2)\n",
    "print(x3)\n",
    "print(x10)"
   ]
  },
  {
   "cell_type": "markdown",
   "metadata": {},
   "source": [
    "wap to use the map function and perform i + i ** 2 for every element in the list data =[1,2,3,4,5]"
   ]
  },
  {
   "cell_type": "code",
   "execution_count": 10,
   "metadata": {},
   "outputs": [
    {
     "name": "stdout",
     "output_type": "stream",
     "text": [
      "[3, 5, 7, 9, 11]\n",
      "[2, 4, 6, 8, 10]\n",
      "[5, 6, 7, 8, 9, 10, 11]\n"
     ]
    }
   ],
   "source": [
    "x = [2,3,4,5,6,7,8,9,10,11]\n",
    "odds = list(filter(lambda i: i%2!=0, x))\n",
    "print(odds)\n",
    "even = list(filter(lambda i: i%2==0, x))\n",
    "print(even)\n",
    "xgte5 = list(filter(lambda i: i>=5,x))\n",
    "print(xgte5)"
   ]
  },
  {
   "cell_type": "code",
   "execution_count": null,
   "metadata": {},
   "outputs": [],
   "source": []
  }
 ],
 "metadata": {
  "kernelspec": {
   "display_name": "base",
   "language": "python",
   "name": "python3"
  },
  "language_info": {
   "codemirror_mode": {
    "name": "ipython",
    "version": 3
   },
   "file_extension": ".py",
   "mimetype": "text/x-python",
   "name": "python",
   "nbconvert_exporter": "python",
   "pygments_lexer": "ipython3",
   "version": "3.11.5"
  }
 },
 "nbformat": 4,
 "nbformat_minor": 2
}
